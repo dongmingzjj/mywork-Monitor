{
 "cells": [
  {
   "cell_type": "code",
   "execution_count": 1,
   "metadata": {},
   "outputs": [
    {
     "name": "stdout",
     "output_type": "stream",
     "text": [
      "not ex\n"
     ]
    }
   ],
   "source": [
    "import os\n",
    "\n",
    "if not os.path.exists(\"logs/log.txt\"):\n",
    "    print(\"not ex\")"
   ]
  },
  {
   "cell_type": "code",
   "execution_count": 5,
   "metadata": {},
   "outputs": [
    {
     "data": {
      "text/plain": [
       "'10-33-29'"
      ]
     },
     "execution_count": 5,
     "metadata": {},
     "output_type": "execute_result"
    }
   ],
   "source": [
    "import time\n",
    "time.strftime(\"%H-%M-%S\",time.localtime(time.time()))"
   ]
  },
  {
   "cell_type": "code",
   "execution_count": 7,
   "metadata": {},
   "outputs": [
    {
     "name": "stdout",
     "output_type": "stream",
     "text": [
      "python.exe\n"
     ]
    }
   ],
   "source": [
    "import psutil\n",
    "\n",
    "p = psutil.Process()\n",
    "with p.oneshot():\n",
    "    print(p.name())"
   ]
  },
  {
   "cell_type": "code",
   "execution_count": 3,
   "metadata": {},
   "outputs": [
    {
     "data": {
      "text/plain": [
       "['周五计网个人实验1+张楷+19035331——wireshark实验.docx',\n",
       " '周五计网个人实验2+张楷+19035331——网线制作.docx',\n",
       " '周五计网个人实验3+张楷+19035331——ApacheWeb服务器安装配置.docx',\n",
       " '周五计网个人实验4+张楷+19035331——TCP协议分析.docx',\n",
       " '周五计网个人实验5+张楷+19035331——DNS 域名服务器安装配置.docx',\n",
       " '周五计网个人实验7+张楷+19035331——ARP协议分析.docx',\n",
       " '周五计网小组实验10+张楷+19035331——生成树的配置.docx',\n",
       " '周五计网小组实验11+张楷+19035331——静态路由的配置.docx',\n",
       " '周五计网小组实验12+张楷+19035331——RIP 路由协议基本配置.docx',\n",
       " '周五计网小组实验13+张楷+19035331——OSPF 基本配置.docx',\n",
       " '周五计网小组实验14+张楷+19035331——配置静态动态 NAT.docx',\n",
       " '周五计网小组实验15+张楷+19035331——ACL网络访问控制.docx',\n",
       " '周五计网小组实验16+张楷+19035331——DHCP的基本配置.docx',\n",
       " '周五计网小组实验8+张楷+19035331——交换机的基本配置.docx',\n",
       " '周五计网小组实验9+张楷+19035331——交换机VLAN 间路由.docx',\n",
       " '祝俊杰21051336第3次作业.docx']"
      ]
     },
     "execution_count": 3,
     "metadata": {},
     "output_type": "execute_result"
    }
   ],
   "source": [
    "import os\n",
    "\n",
    "pa = r'D:\\anwu\\desk\\qFile'\n",
    "\n",
    "os.listdir(pa)"
   ]
  },
  {
   "cell_type": "code",
   "execution_count": 5,
   "metadata": {},
   "outputs": [
    {
     "name": "stdout",
     "output_type": "stream",
     "text": [
      "D:\\anwu\\desk\\qFile\\周一计网个人实验1+张楷+19035331——wireshark实验.docx ======> D:\\anwu\\desk\\qFile\\周一计网个人实验1祝俊杰21051336——wireshark实验.docx\n",
      "D:\\anwu\\desk\\qFile\\周一计网个人实验2+张楷+19035331——网线制作.docx ======> D:\\anwu\\desk\\qFile\\周一计网个人实验2祝俊杰21051336——网线制作.docx\n",
      "D:\\anwu\\desk\\qFile\\周一计网个人实验3+张楷+19035331——ApacheWeb服务器安装配置.docx ======> D:\\anwu\\desk\\qFile\\周一计网个人实验3祝俊杰21051336——ApacheWeb服务器安装配置.docx\n",
      "D:\\anwu\\desk\\qFile\\周一计网个人实验4+张楷+19035331——TCP协议分析.docx ======> D:\\anwu\\desk\\qFile\\周一计网个人实验4祝俊杰21051336——TCP协议分析.docx\n",
      "D:\\anwu\\desk\\qFile\\周一计网个人实验5+张楷+19035331——DNS 域名服务器安装配置.docx ======> D:\\anwu\\desk\\qFile\\周一计网个人实验5祝俊杰21051336——DNS 域名服务器安装配置.docx\n",
      "D:\\anwu\\desk\\qFile\\周一计网个人实验7+张楷+19035331——ARP协议分析.docx ======> D:\\anwu\\desk\\qFile\\周一计网个人实验7祝俊杰21051336——ARP协议分析.docx\n",
      "D:\\anwu\\desk\\qFile\\周一计网小组实验10+张楷+19035331——生成树的配置.docx ======> D:\\anwu\\desk\\qFile\\周一计网小组实验10祝俊杰21051336——生成树的配置.docx\n",
      "D:\\anwu\\desk\\qFile\\周一计网小组实验11+张楷+19035331——静态路由的配置.docx ======> D:\\anwu\\desk\\qFile\\周一计网小组实验11祝俊杰21051336——静态路由的配置.docx\n",
      "D:\\anwu\\desk\\qFile\\周一计网小组实验12+张楷+19035331——RIP 路由协议基本配置.docx ======> D:\\anwu\\desk\\qFile\\周一计网小组实验12祝俊杰21051336——RIP 路由协议基本配置.docx\n",
      "D:\\anwu\\desk\\qFile\\周一计网小组实验13+张楷+19035331——OSPF 基本配置.docx ======> D:\\anwu\\desk\\qFile\\周一计网小组实验13祝俊杰21051336——OSPF 基本配置.docx\n",
      "D:\\anwu\\desk\\qFile\\周一计网小组实验14+张楷+19035331——配置静态动态 NAT.docx ======> D:\\anwu\\desk\\qFile\\周一计网小组实验14祝俊杰21051336——配置静态动态 NAT.docx\n",
      "D:\\anwu\\desk\\qFile\\周一计网小组实验15+张楷+19035331——ACL网络访问控制.docx ======> D:\\anwu\\desk\\qFile\\周一计网小组实验15祝俊杰21051336——ACL网络访问控制.docx\n",
      "D:\\anwu\\desk\\qFile\\周一计网小组实验16+张楷+19035331——DHCP的基本配置.docx ======> D:\\anwu\\desk\\qFile\\周一计网小组实验16祝俊杰21051336——DHCP的基本配置.docx\n",
      "D:\\anwu\\desk\\qFile\\周一计网小组实验8+张楷+19035331——交换机的基本配置.docx ======> D:\\anwu\\desk\\qFile\\周一计网小组实验8祝俊杰21051336——交换机的基本配置.docx\n",
      "D:\\anwu\\desk\\qFile\\周一计网小组实验9+张楷+19035331——交换机VLAN 间路由.docx ======> D:\\anwu\\desk\\qFile\\周一计网小组实验9祝俊杰21051336——交换机VLAN 间路由.docx\n",
      "D:\\anwu\\desk\\qFile\\祝俊杰21051336第3次作业.docx ======> D:\\anwu\\desk\\qFile\\祝俊杰21051336第3次作业.docx\n"
     ]
    }
   ],
   "source": [
    "fileList=os.listdir(pa)\n",
    "\n",
    "n=0\n",
    "for i in fileList:\n",
    "    \n",
    "    #设置旧文件名（就是路径+文件名）\n",
    "    oldname=pa+ os.sep + fileList[n]   # os.sep添加系统分隔符\n",
    "    \n",
    "    #设置新文件名\n",
    "    newname=oldname.replace('+张楷+19035331','祝俊杰21051336')\n",
    "    newname=newname.replace('周五','周一')\n",
    "\n",
    "    \n",
    "    os.rename(oldname,newname)   #用os模块中的rename方法对文件改名\n",
    "    print(oldname,'======>',newname)\n",
    "    \n",
    "    n+=1"
   ]
  }
 ],
 "metadata": {
  "kernelspec": {
   "display_name": "mon",
   "language": "python",
   "name": "python3"
  },
  "language_info": {
   "codemirror_mode": {
    "name": "ipython",
    "version": 3
   },
   "file_extension": ".py",
   "mimetype": "text/x-python",
   "name": "python",
   "nbconvert_exporter": "python",
   "pygments_lexer": "ipython3",
   "version": "3.12.0"
  }
 },
 "nbformat": 4,
 "nbformat_minor": 2
}
